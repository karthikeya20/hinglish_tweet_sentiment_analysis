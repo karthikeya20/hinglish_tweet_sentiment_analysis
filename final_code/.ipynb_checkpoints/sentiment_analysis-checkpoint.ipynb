{
 "cells": [
  {
   "cell_type": "code",
   "execution_count": 1,
   "metadata": {},
   "outputs": [],
   "source": [
    "import re\n",
    "train_tweets=[]\n",
    "train_tags=[]\n",
    "test_tweets=[]\n",
    "test_tags=[]\n",
    "d={'negative':0,'neutral':1,'positive':2}\n",
    "with open('train_final_trans.txt','r') as f:\n",
    "    k = f.readlines()\n",
    "    for i in k:\n",
    "        l=i.strip().split()\n",
    "        train_tweets.append(' '.join(l[1:-1]))\n",
    "        train_tags.append(d[l[-1]])\n",
    "with open('test_final_trans.txt','r') as f:\n",
    "    k = f.readlines()\n",
    "    for i in k:\n",
    "        l=i.strip().split()\n",
    "        test_tweets.append(' '.join(l[1:-1]))\n",
    "        test_tags.append(d[l[-1]])"
   ]
  },
  {
   "cell_type": "code",
   "execution_count": 2,
   "metadata": {},
   "outputs": [],
   "source": [
    "import csv\n",
    "mapping=['__label__NEGATIVE','__label__NEUTRAL','__label__POSITIVE']\n",
    "def filter(tweets,tweet_tags):\n",
    "    out_tweets=[]\n",
    "    for i in range(len(tweets)):\n",
    "        tweet = ' '.join(re.sub(\"[\\.\\,\\!\\?\\:\\;\\-\\=]\", \" \", tweets[i]).split())\n",
    "        tweet = tweet.lower()\n",
    "        if 'ø' in tweet or  'Ø' in tweet:\n",
    "            tweet=tweet\n",
    "        else:\n",
    "            tweet = tweet.encode('ascii', 'ignore')\n",
    "            tweet = tweet.decode(\"utf-8\")\n",
    "        out_tweets.append([mapping[tweet_tags[i]],str(tweet)])\n",
    "    return(out_tweets)\n",
    "train=filter(train_tweets,train_tags)\n",
    "test=filter(test_tweets,test_tags)\n",
    "with open('train.csv', 'w') as writeFile:\n",
    "    writer = csv.writer(writeFile)\n",
    "    writer.writerows(train)\n",
    "with open('test.csv', 'w') as writeFile:\n",
    "    writer = csv.writer(writeFile)\n",
    "    writer.writerows(test)\n",
    "\n",
    "        "
   ]
  },
  {
   "cell_type": "code",
   "execution_count": 20,
   "metadata": {},
   "outputs": [
    {
     "name": "stdout",
     "output_type": "stream",
     "text": [
      "Model trained with the hyperparameter \n",
      " {'lr': 0.5, 'epoch': 3, 'wordNgrams': 2, 'dim': 100}\n"
     ]
    }
   ],
   "source": [
    "import fasttext as fastText\n",
    "#    input             # training file path (required)\n",
    "#     lr                # learning rate [0.1]\n",
    "#     dim               # size of word vectors [100]\n",
    "#     ws                # size of the context window [5]\n",
    "#     epoch             # number of epochs [5]\n",
    "#     minCount          # minimal number of word occurences [1]\n",
    "#     minCountLabel     # minimal number of label occurences [1]\n",
    "#     minn              # min length of char ngram [0]\n",
    "#     maxn              # max length of char ngram [0]\n",
    "#     neg               # number of negatives sampled [5]\n",
    "#     wordNgrams        # max length of word ngram [1]\n",
    "#     loss              # loss function {ns, hs, softmax, ova} [softmax]\n",
    "#     bucket            # number of buckets [2000000]\n",
    "#     thread            # number of threads [number of cpus]\n",
    "#     lrUpdateRate      # change the rate of updates for the learning rate [100]\n",
    "#     t                 # sampling threshold [0.0001]\n",
    "#     label             # label prefix ['__label__']\n",
    "#     verbose           # verbose [2]\n",
    "#     pretrainedVectors \n",
    "hyper_params= {\"lr\": 0.5,\n",
    "    \"epoch\": 3,\n",
    "    \"wordNgrams\": 2,\n",
    "    \"dim\": 100,\n",
    "            }     \n",
    "#   \"pretrainedVectors\":\"crawl-300d-2M.vec\"\n",
    "# Train the model.\n",
    "model = fastText.train_supervised(input='actual_train.txt', **hyper_params)\n",
    "print(\"Model trained with the hyperparameter \\n {}\".format(hyper_params))"
   ]
  },
  {
   "cell_type": "code",
   "execution_count": 21,
   "metadata": {},
   "outputs": [
    {
     "name": "stdout",
     "output_type": "stream",
     "text": [
      "(('__label__NEUTRAL',), array([0.5509252]))\n"
     ]
    }
   ],
   "source": [
    "\n",
    "import csv\n",
    "test=test_tweets\n",
    "l=[['tweet','actual','predicted']]\n",
    "for i in range(len(test)):\n",
    "    l.append([test[i],test_tags[i],model.predict(test[i])])\n",
    "print(model.predict(\"Which baking dish is best to bake a banana bread ?\"))\n",
    "with open('output_100.csv', 'w') as writeFile:\n",
    "    writer = csv.writer(writeFile)\n",
    "    writer.writerows(l)"
   ]
  },
  {
   "cell_type": "code",
   "execution_count": null,
   "metadata": {},
   "outputs": [],
   "source": [
    "import csv\n",
    "total=0\n",
    "correct=0\n",
    "wrong=0\n",
    "d={'__label__NEUTRAL':1,'__label__NEGATIVE':0,'__label__POSITIVE':2}\n",
    "c=0\n",
    "\n",
    "with open('output_100.csv','rt')as f:\n",
    "\n",
    "    data = csv.reader(f)\n",
    "    for row in data:\n",
    "        c+=1\n",
    "        if c>1:\n",
    "            k=row[2]\n",
    "            st=k.find('_')\n",
    "            end=k.find(',')\n",
    "            total+=1\n",
    "            if int(d[row[2][st:end-1]])==int(row[1]):\n",
    "\n",
    "                correct+=1\n",
    "            else:\n",
    "                wrong+=1\n",
    "print(total,correct,wrong)\n",
    "print(correct/total)"
   ]
  },
  {
   "cell_type": "code",
   "execution_count": 14,
   "metadata": {},
   "outputs": [
    {
     "name": "stdout",
     "output_type": "stream",
     "text": [
      "{'lr': 0.8, 'epoch': 3, 'minn': 3, 'maxn': 8, 'wordNgrams': 1, 'dim': 300},accuracy:nan,validation:nan\n",
      "\n"
     ]
    }
   ],
   "source": [
    "result = model.test('train.csv')\n",
    "validation = model.test('test.csv')\n",
    "# DISPLAY ACCURACY OF TRAINED MODEL\n",
    "text_line = str(hyper_params) + \",accuracy:\" + str(result[1])  + \",validation:\" + str(validation[1]) + '\\n' \n",
    "print(text_line)"
   ]
  }
 ],
 "metadata": {
  "kernelspec": {
   "display_name": "Python 3",
   "language": "python",
   "name": "python3"
  },
  "language_info": {
   "codemirror_mode": {
    "name": "ipython",
    "version": 3
   },
   "file_extension": ".py",
   "mimetype": "text/x-python",
   "name": "python",
   "nbconvert_exporter": "python",
   "pygments_lexer": "ipython3",
   "version": "3.6.8"
  }
 },
 "nbformat": 4,
 "nbformat_minor": 2
}
